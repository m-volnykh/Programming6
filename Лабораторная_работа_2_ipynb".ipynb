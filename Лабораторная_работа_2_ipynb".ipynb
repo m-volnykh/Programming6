{
  "nbformat": 4,
  "nbformat_minor": 0,
  "metadata": {
    "colab": {
      "provenance": [],
      "include_colab_link": true
    },
    "kernelspec": {
      "name": "python3",
      "display_name": "Python 3"
    },
    "language_info": {
      "name": "python"
    }
  },
  "cells": [
    {
      "cell_type": "markdown",
      "metadata": {
        "id": "view-in-github",
        "colab_type": "text"
      },
      "source": [
        "<a href=\"https://colab.research.google.com/github/m-volnykh/Programming6/blob/main/%D0%9B%D0%B0%D0%B1%D0%BE%D1%80%D0%B0%D1%82%D0%BE%D1%80%D0%BD%D0%B0%D1%8F_%D1%80%D0%B0%D0%B1%D0%BE%D1%82%D0%B0_2_ipynb%22.ipynb\" target=\"_parent\"><img src=\"https://colab.research.google.com/assets/colab-badge.svg\" alt=\"Open In Colab\"/></a>"
      ]
    },
    {
      "cell_type": "markdown",
      "source": [],
      "metadata": {
        "id": "mhxU17_ScDGd"
      }
    },
    {
      "cell_type": "markdown",
      "source": [
        "# Лабораторная работа 2\n",
        "\n",
        "## Выполнил(а): __Вольных Мария Валентиновна__"
      ],
      "metadata": {
        "id": "Txfcn2uZZmwp"
      }
    },
    {
      "cell_type": "code",
      "source": [
        "%%capture\n",
        "!git clone https://github.com/m-volnykh/Programming6"
      ],
      "metadata": {
        "id": "eIjIQNbuddla"
      },
      "execution_count": 58,
      "outputs": []
    },
    {
      "cell_type": "code",
      "source": [
        "import pandas as pd\n",
        "import numpy as np\n",
        "from collections import Counter"
      ],
      "metadata": {
        "id": "Kx-kaCG0feEB"
      },
      "execution_count": 59,
      "outputs": []
    },
    {
      "cell_type": "code",
      "execution_count": 60,
      "metadata": {
        "colab": {
          "base_uri": "https://localhost:8080/"
        },
        "id": "OxfHAEFnZl15",
        "outputId": "5d5eacb0-3267-4ed4-e8c4-a108481fe65e"
      },
      "outputs": [
        {
          "output_type": "stream",
          "name": "stdout",
          "text": [
            "Males and females boarded: 577 314\n"
          ]
        }
      ],
      "source": [
        "data = pd.read_csv('/content/Programming6/Lab2/train.csv')\n",
        "\n",
        "#1 Какое количество мужчин и женщин ехало на параходе?\n",
        "temp = data['Sex'].value_counts()\n",
        "print(f\"Males and females boarded: {temp['male']} {temp['female']}\")"
      ]
    },
    {
      "cell_type": "code",
      "source": [
        "#2 Подсчитайте сколько пассажиров загрузилось на борт в различных портах?\n",
        "temp = data['Embarked'].value_counts()\n",
        "print(f\"The number of different embarkments: {temp['S']} {temp['C']} {temp['Q']}\")"
      ],
      "metadata": {
        "colab": {
          "base_uri": "https://localhost:8080/"
        },
        "id": "_wcIaqhbRK5B",
        "outputId": "208e7555-0394-4ec2-cd73-995f293590ea"
      },
      "execution_count": 61,
      "outputs": [
        {
          "output_type": "stream",
          "name": "stdout",
          "text": [
            "The number of different embarkments: 644 168 77\n"
          ]
        }
      ]
    },
    {
      "cell_type": "code",
      "source": [
        "#3 Посчитайте долю (процент) погибших на параходе (число и процент)?\n",
        "temp = data['Survived'].value_counts()\n",
        "print(f\"Percentage of survival: {round(temp[1]/(temp[0]+temp[1])*100, 2)}%\")"
      ],
      "metadata": {
        "colab": {
          "base_uri": "https://localhost:8080/"
        },
        "id": "PyLjzhXHROJE",
        "outputId": "b41f0f44-2b45-408d-f6c1-177483c2108e"
      },
      "execution_count": 62,
      "outputs": [
        {
          "output_type": "stream",
          "name": "stdout",
          "text": [
            "Percentage of survival: 38.38%\n"
          ]
        }
      ]
    },
    {
      "cell_type": "code",
      "source": [
        "#4 Какие доли составляли пассажиры первого, второго, третьего класса?\n",
        "temp = data['Pclass'].value_counts()\n",
        "print(f\"First class: {round(temp[1]/(temp[1]+temp[2]+temp[3])*100, 2)}%\")\n",
        "print(f\"Second class: {round(temp[2]/(temp[1]+temp[2]+temp[3])*100, 2)}%\")\n",
        "print(f\"Third class: {round(temp[3]/(temp[1]+temp[2]+temp[3])*100, 2)}%\")"
      ],
      "metadata": {
        "colab": {
          "base_uri": "https://localhost:8080/"
        },
        "id": "hRWRNpoaRRYX",
        "outputId": "b667e9b6-bda8-425d-c3a4-faa09523746a"
      },
      "execution_count": 63,
      "outputs": [
        {
          "output_type": "stream",
          "name": "stdout",
          "text": [
            "First class: 24.24%\n",
            "Second class: 20.65%\n",
            "Third class: 55.11%\n"
          ]
        }
      ]
    },
    {
      "cell_type": "code",
      "source": [
        "#5 Вычислите коэффициент корреляции Пирсона между количеством супругов (SibSp) и количеством детей (Parch).\n",
        "pears = data[['SibSp', 'Parch']].corr(method='pearson').iloc[0,1]\n",
        "if abs(pears)>0.5:\n",
        "  print(f\"There is a correlation (SibSp, Parch):\\n the Pearson coefficient is {round(pears,2)}.\")\n",
        "else:\n",
        "  print(f\"There is no correlation (SibSp, Parch):\\n  the Pearson coefficient is {round(pears,2)}.\")"
      ],
      "metadata": {
        "id": "-ef7h7QARUcQ",
        "colab": {
          "base_uri": "https://localhost:8080/"
        },
        "outputId": "0fca53bf-6de2-4dac-bdfd-3bfefd5dd35a"
      },
      "execution_count": 64,
      "outputs": [
        {
          "output_type": "stream",
          "name": "stdout",
          "text": [
            "There is no correlation (SibSp, Parch):\n",
            "  the Pearson coefficient is 0.41.\n"
          ]
        }
      ]
    },
    {
      "cell_type": "code",
      "source": [
        "#6 Выясните есть ли корреляция (вычислите коэффициент корреляции Пирсона) между:\n",
        "#    возрастом и параметром Survived;\n",
        "pears = data[['Age', 'Survived']].corr(method='pearson').iloc[0,1]\n",
        "if abs(pears)>0.5:\n",
        "  print(f\"There is a correlation (Age, Survived):\\n the Pearson coefficient is {round(pears,2)}.\")\n",
        "else:\n",
        "  print(f\"There is no correlation (Age, Survived):\\n  the Pearson coefficient is {round(pears,2)}.\")\n",
        "\n",
        "#    полом человека и параметром Survived;\n",
        "      #способ 1\n",
        "temp = data[['Sex', 'Survived']]\n",
        "temp.loc[temp['Sex'] == 'male', 'Sex'] = 0\n",
        "temp.loc[temp['Sex'] == 'female', 'Sex'] = 1\n",
        "pears = temp[['Sex', 'Survived']].corr(method='pearson').iloc[0,1]\n",
        "if abs(pears)>0.5:\n",
        "  print(f\"There is a correlation (Sex, Survived):\\n  the Pearson coefficient is {round(pears,2)}.\")\n",
        "else:\n",
        "  print(f\"There is no correlation (Sex, Survived):\\n  the Pearson coefficient is {round(pears,2)}.\")\n",
        "      #способ 2\n",
        "#temp = data[['Sex', 'Survived']]\n",
        "#temp = pd.get_dummies(temp, columns=['Sex'])\n",
        "#print(temp[['Sex_female', 'Survived']].corr(method='pearson'))\n",
        "#print(temp[['Sex_male', 'Survived']].corr(method='pearson'))\n",
        "\n",
        "#    классом, в котором пассажир ехал, и параметром Survived.\n",
        "pears = data[['Pclass', 'Survived']].corr(method='pearson').iloc[0,1]\n",
        "if abs(pears)>0.5:\n",
        "  print(f\"There is a correlation (Pclass, Survived):\\n  the Pearson coefficient is {round(pears,2)}.\")\n",
        "else:\n",
        "  print(f\"There is no correlation (Pclass, Survived):\\n  the Pearson coefficient is {round(pears,2)}.\")"
      ],
      "metadata": {
        "id": "zcgIqSLHRYKG",
        "colab": {
          "base_uri": "https://localhost:8080/"
        },
        "outputId": "daf3ec54-398b-473c-aff2-2cf63e857e29"
      },
      "execution_count": 65,
      "outputs": [
        {
          "output_type": "stream",
          "name": "stdout",
          "text": [
            "There is no correlation (Age, Survived):\n",
            "  the Pearson coefficient is -0.08.\n",
            "There is a correlation (Sex, Survived):\n",
            "  the Pearson coefficient is 0.54.\n",
            "There is no correlation (Pclass, Survived):\n",
            "  the Pearson coefficient is -0.34.\n"
          ]
        }
      ]
    },
    {
      "cell_type": "code",
      "source": [
        "#7 Посчитайте средний возраст пассажиров и медиану, минимальный и максимальный возраст.\n",
        "print(f\"Mean age: {round(data['Age'].mean(), 2)}\")\n",
        "print(f\"Median age: {round(data['Age'].median(), 2)}\")\n",
        "print(f\"Min age: {round(data['Age'].min(), 2)}\")\n",
        "print(f\"Max age: {round(data['Age'].max(), 2)}\")"
      ],
      "metadata": {
        "colab": {
          "base_uri": "https://localhost:8080/"
        },
        "id": "5iOxk5XvRl0u",
        "outputId": "1580cc9e-1386-432b-b583-c04fb4063167"
      },
      "execution_count": 66,
      "outputs": [
        {
          "output_type": "stream",
          "name": "stdout",
          "text": [
            "Mean age: 29.7\n",
            "Median age: 28.0\n",
            "Min age: 0.42\n",
            "Max age: 80.0\n"
          ]
        }
      ]
    },
    {
      "cell_type": "code",
      "source": [
        "#8 Посчитайте среднюю цену за билет и медиану, минимальная и максимальные цены.\n",
        "print(f\"Mean price: {round(data['Fare'].mean(), 2)}\")\n",
        "print(f\"Median price: {round(data['Fare'].median(), 2)}\")\n",
        "print(f\"Min price: {round(data['Fare'].min(), 2)}\")\n",
        "print(f\"Max price: {round(data['Fare'].max(), 2)}\")"
      ],
      "metadata": {
        "colab": {
          "base_uri": "https://localhost:8080/"
        },
        "id": "uRnHQ4pOR0G0",
        "outputId": "d4c849c5-32f8-4101-e9a3-c37ec912e979"
      },
      "execution_count": 67,
      "outputs": [
        {
          "output_type": "stream",
          "name": "stdout",
          "text": [
            "Mean price: 32.2\n",
            "Median price: 14.45\n",
            "Min price: 0.0\n",
            "Max price: 512.33\n"
          ]
        }
      ]
    },
    {
      "cell_type": "code",
      "source": [
        "#9 Какое самое популярное мужское имя на корабле?\n",
        "men = []\n",
        "\n",
        "temp = data.loc[data['Sex'] == 'male', ['Name']].squeeze().str.split(',', expand=True)\n",
        "for row in temp[1]:\n",
        "  if 'Mr.' in row:\n",
        "    name = row.rpartition('Mr.')\n",
        "    name = name[len(name)-1].strip().split(' ')\n",
        "    for word in name:\n",
        "      men.append(word)\n",
        "\n",
        "#print(Counter(men).most_common(3))\n",
        "print(f\"The most popular male name is {Counter(men).most_common(1)[0][0]}\")\n",
        "#print(temp)"
      ],
      "metadata": {
        "id": "ixyHfae6SAAq",
        "colab": {
          "base_uri": "https://localhost:8080/"
        },
        "outputId": "722dab4c-cbcd-4446-c6c5-8a6b6d4af0df"
      },
      "execution_count": 68,
      "outputs": [
        {
          "output_type": "stream",
          "name": "stdout",
          "text": [
            "The most popular male name is William\n"
          ]
        }
      ]
    },
    {
      "cell_type": "code",
      "source": [
        "#10 Какие самые популярные мужское и женские имена людей, старше 15 лет на корабле?\n",
        "men = []\n",
        "\n",
        "temp = data.loc[data['Age'] > 15, ['Name', 'Sex']]\n",
        "temp_m = temp.loc[temp['Sex'] == 'male', ['Name']].squeeze().str.split(',', expand=True)\n",
        "for row in temp_m[1]:\n",
        "  if 'Mr.' in row:\n",
        "    name = row.rpartition('Mr.')\n",
        "    name = name[len(name)-1].strip().split(' ')\n",
        "    for word in name:\n",
        "      men.append(word)\n",
        "\n",
        "print(f\"The most popular male name in age above 15 is {Counter(men).most_common(1)[0][0]}\")\n",
        "\n",
        "temp = temp.loc[temp['Sex'] == 'female', ['Name']].squeeze().str.split(',', expand=True)\n",
        "#temp = temp[1].str.split('.', expand=True)\n",
        "#temp_f = temp.loc[temp[0] == ' Mrs', [1]]\n",
        "\n",
        "women = []\n",
        "\n",
        "for row in temp[1]:\n",
        "  if 'Miss.' in row:\n",
        "    name = row.rpartition('Miss.')\n",
        "    name = name[len(name)-1].strip().split(' ')\n",
        "    for word in name:\n",
        "      women.append(word)\n",
        "  elif 'Mrs.' in row:\n",
        "    name = row.rpartition('(')\n",
        "    name = name[len(name)-1].strip().split(' ')\n",
        "    for word in name:\n",
        "      women.append(word.replace(')',''))\n",
        "#print(Counter(women).most_common(3))\n",
        "\n",
        "print(f\"The most popular female name in age above 15 is {Counter(women).most_common(1)[0][0]}\")\n",
        "#print(temp)\n",
        "\n"
      ],
      "metadata": {
        "id": "DyHvu0YgSDrU",
        "colab": {
          "base_uri": "https://localhost:8080/"
        },
        "outputId": "511df494-37c0-4a16-9512-7841a8e62b60"
      },
      "execution_count": 69,
      "outputs": [
        {
          "output_type": "stream",
          "name": "stdout",
          "text": [
            "The most popular male name in age above 15 is William\n",
            "The most popular female name in age above 15 is Elizabeth\n"
          ]
        }
      ]
    }
  ]
}